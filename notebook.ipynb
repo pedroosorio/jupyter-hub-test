{
  "cells": [
    {
      "cell_type": "raw",
      "id": "0144a27c-8069-4336-b8fd-7cd395384055",
      "metadata": {},
      "source": [
        "# ska-tango-examples jupyter notebook\n",
        "\n",
        "Before starting the notebook, please run the job `deploy-dev-environment` of the `deploy` stage in the gitlab pipeline. \n",
        "That will create an new development environment with namespace `ci-dev-ska-tango-examples`."
      ]
    },
    {
      "cell_type": "code",
      "execution_count": 5,
      "id": "8b17ab52",
      "metadata": {},
      "outputs": [
        {
          "name": "stdout",
          "output_type": "stream",
          "text": [
            "environ({'ELECTRON_RUN_AS_NODE': '1', 'GJS_DEBUG_TOPICS': 'JS ERROR;JS LOG', 'LANGUAGE': 'en_US:', 'LC_TIME': 'pt_PT.UTF-8', 'USER': 'posorio', 'XDG_SESSION_TYPE': 'wayland', 'SHLVL': '0', 'HOME': '/home/posorio', 'OLDPWD': '/home/posorio', 'DESKTOP_SESSION': 'ubuntu', 'GIO_LAUNCHED_DESKTOP_FILE': '/usr/share/applications/code.desktop', 'GTK_MODULES': 'gail:atk-bridge', 'GNOME_SHELL_SESSION_MODE': 'ubuntu', 'LC_MONETARY': 'pt_PT.UTF-8', 'LC_CTYPE': 'pt_PT.UTF-8', 'MANAGERPID': '3187', 'SYSTEMD_EXEC_PID': '27223', 'DBUS_SESSION_BUS_ADDRESS': 'unix:path=/run/user/1000/bus', 'GIO_LAUNCHED_DESKTOP_FILE_PID': '39104', 'IM_CONFIG_PHASE': '1', 'WAYLAND_DISPLAY': 'wayland-0', 'LOGNAME': 'posorio', '_': '/usr/share/code/code', 'JOURNAL_STREAM': '8:156769', 'XDG_SESSION_CLASS': 'user', 'USERNAME': 'posorio', 'GNOME_DESKTOP_SESSION_ID': 'this-is-deprecated', 'PATH': '/bin:/home/posorio/.poetry/bin:/home/posorio/.local/bin:/home/posorio/bin:/usr/local/sbin:/usr/local/bin:/usr/sbin:/usr/bin:/sbin:/bin:/usr/games:/usr/local/games:/snap/bin:/snap/bin', 'SESSION_MANAGER': 'local/posorio-atlar:@/tmp/.ICE-unix/27192,unix/posorio-atlar:/tmp/.ICE-unix/27192', 'INVOCATION_ID': '22bc54793ab941828db064936d90e598', 'LC_ADDRESS': 'pt_PT.UTF-8', 'XDG_RUNTIME_DIR': '/run/user/1000', 'XDG_MENU_PREFIX': 'gnome-', 'GNOME_SETUP_DISPLAY': ':1', 'DISPLAY': ':0', 'LANG': 'en_US.UTF-8', 'LC_TELEPHONE': 'pt_PT.UTF-8', 'XDG_CURRENT_DESKTOP': 'Unity', 'XDG_SESSION_DESKTOP': 'ubuntu', 'XMODIFIERS': '@im=ibus', 'XAUTHORITY': '/run/user/1000/.mutter-Xwaylandauth.J345P1', 'SSH_AGENT_LAUNCHER': 'gnome-keyring', 'SSH_AUTH_SOCK': '/run/user/1000/keyring/ssh', 'LC_NAME': 'pt_PT.UTF-8', 'SHELL': '/usr/bin/zsh', 'QT_ACCESSIBILITY': '1', 'GDMSESSION': 'ubuntu', 'LC_MEASUREMENT': 'pt_PT.UTF-8', 'LC_IDENTIFICATION': 'pt_PT.UTF-8', 'GJS_DEBUG_OUTPUT': 'stderr', 'QT_IM_MODULE': 'ibus', 'PWD': '/home/posorio', 'XDG_DATA_DIRS': '/usr/share/ubuntu:/usr/local/share/:/usr/share/:/var/lib/snapd/desktop', 'XDG_CONFIG_DIRS': '/etc/xdg/xdg-ubuntu:/etc/xdg', 'LC_NUMERIC': 'pt_PT.UTF-8', 'LC_PAPER': 'pt_PT.UTF-8', 'CHROME_DESKTOP': 'code-url-handler.desktop', 'ORIGINAL_XDG_CURRENT_DESKTOP': 'Unity', 'VSCODE_CWD': '/home/posorio', 'GDK_BACKEND': 'x11', 'VSCODE_NLS_CONFIG': '{\"locale\":\"en-us\",\"availableLanguages\":{},\"_languagePackSupport\":true}', 'VSCODE_CODE_CACHE_PATH': '/home/posorio/.config/Code/CachedData/3b889b090b5ad5793f524b5d1d39fda662b96a2a', 'VSCODE_IPC_HOOK': '/run/user/1000/vscode-7e163fd6-1.69.2-main.sock', 'VSCODE_PID': '40170', 'ZSH': '/home/posorio/.oh-my-zsh', 'PAGER': 'cat', 'LESS': '-R', 'LSCOLORS': 'Gxfxcxdxbxegedabagacad', 'LS_COLORS': '', 'ZNT_REPO_DIR': '/home/posorio/.oh-my-zsh/plugins/zsh-navigation-tools', 'ZNT_CONFIG_DIR': '/home/posorio/.config/znt', 'VSCODE_AMD_ENTRYPOINT': 'vs/workbench/api/node/extensionHostProcess', 'VSCODE_HANDLES_UNCAUGHT_ERRORS': 'true', 'PYTHONUNBUFFERED': '1', 'PYTHONIOENCODING': 'utf-8', 'TERM': 'xterm-color', 'CLICOLOR': '1', 'GIT_PAGER': 'cat', 'MPLBACKEND': 'module://matplotlib_inline.backend_inline', 'TANGO_HOST': 'tango-databaseds.ci-dev-ska-tango-examples.svc.cluster.local:10000'})\n"
          ]
        }
      ],
      "source": [
        "import os\n",
        "\n",
        "print(os.environ)"
      ]
    }
  ],
  "metadata": {
    "kernelspec": {
      "display_name": "Python 3.10.4 64-bit",
      "language": "python",
      "name": "python3"
    },
    "language_info": {
      "codemirror_mode": {
        "name": "ipython",
        "version": 3
      },
      "file_extension": ".py",
      "mimetype": "text/x-python",
      "name": "python",
      "nbconvert_exporter": "python",
      "pygments_lexer": "ipython3",
      "version": "3.10.4"
    },
    "vscode": {
      "interpreter": {
        "hash": "e7370f93d1d0cde622a1f8e1c04877d8463912d04d973331ad4851f04de6915a"
      }
    }
  },
  "nbformat": 4,
  "nbformat_minor": 5
}
